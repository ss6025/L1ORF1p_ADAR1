{
 "cells": [
  {
   "cell_type": "code",
   "execution_count": null,
   "id": "3cf7c1eb-7589-409a-b0a4-9b81dc28d61e",
   "metadata": {},
   "outputs": [],
   "source": [
    "# import packages\n",
    "import matplotlib.pyplot as plt\n",
    "import seaborn as sns\n",
    "import pandas as pd\n",
    "import numpy as np\n",
    "from scipy.stats import pearsonr,spearmanr\n",
    "import helper_funcs\n",
    "helper_funcs = helper_funcs.helper_funcs()\n",
    "\n",
    "# read in data\n",
    "df = helper_funcs.organized_model_data()\n",
    "df.to_csv(\"../results/immunity_model.tsv\", sep=\"\\t\", index=False)\n",
    "print(df)\n",
    "\n",
    "# keep data with mutation call data\n",
    "data_file = \"../results/immunity_model.tsv\"\n",
    "df = pd.read_csv(data_file, sep=\"/t\")\n",
    "\n",
    "df = df[~df[\"data\"].isna()&~df[\"ORF1p Term\"].isna()]\n",
    "print(df)"
   ]
  },
  {
   "cell_type": "code",
   "execution_count": null,
   "id": "5bea33a6-c06e-4c95-ba34-0cce2715033d",
   "metadata": {},
   "outputs": [],
   "source": []
  }
 ],
 "metadata": {
  "kernelspec": {
   "display_name": "Python 3 (ipykernel)",
   "language": "python",
   "name": "python3"
  },
  "language_info": {
   "codemirror_mode": {
    "name": "ipython",
    "version": 3
   },
   "file_extension": ".py",
   "mimetype": "text/x-python",
   "name": "python",
   "nbconvert_exporter": "python",
   "pygments_lexer": "ipython3",
   "version": "3.8.19"
  }
 },
 "nbformat": 4,
 "nbformat_minor": 5
}
